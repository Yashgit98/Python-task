{
 "cells": [
  {
   "cell_type": "markdown",
   "id": "c00b2d38",
   "metadata": {},
   "source": [
    "# Numpy \n",
    "* Numpy is numerical python "
   ]
  },
  {
   "cell_type": "code",
   "execution_count": 4,
   "id": "a93c27f0",
   "metadata": {},
   "outputs": [],
   "source": [
    "import numpy as np"
   ]
  },
  {
   "cell_type": "markdown",
   "id": "abaf4350",
   "metadata": {},
   "source": [
    "# Numpy function "
   ]
  },
  {
   "cell_type": "code",
   "execution_count": 8,
   "id": "54ff238b",
   "metadata": {},
   "outputs": [],
   "source": [
    "a1 = np.array([[1,2,3],[4,5,6]])"
   ]
  },
  {
   "cell_type": "code",
   "execution_count": 9,
   "id": "c43e0ffe",
   "metadata": {},
   "outputs": [
    {
     "data": {
      "text/plain": [
       "array([[1, 2, 3],\n",
       "       [4, 5, 6]])"
      ]
     },
     "execution_count": 9,
     "metadata": {},
     "output_type": "execute_result"
    }
   ],
   "source": [
    "a1"
   ]
  },
  {
   "cell_type": "code",
   "execution_count": 14,
   "id": "bfe3b821",
   "metadata": {},
   "outputs": [],
   "source": [
    "a2 = np.zeros((5,6), dtype = int)"
   ]
  },
  {
   "cell_type": "code",
   "execution_count": 15,
   "id": "69d7dbb8",
   "metadata": {},
   "outputs": [
    {
     "data": {
      "text/plain": [
       "array([[0, 0, 0, 0, 0, 0],\n",
       "       [0, 0, 0, 0, 0, 0],\n",
       "       [0, 0, 0, 0, 0, 0],\n",
       "       [0, 0, 0, 0, 0, 0],\n",
       "       [0, 0, 0, 0, 0, 0]])"
      ]
     },
     "execution_count": 15,
     "metadata": {},
     "output_type": "execute_result"
    }
   ],
   "source": [
    "a2"
   ]
  },
  {
   "cell_type": "code",
   "execution_count": 16,
   "id": "ec203b88",
   "metadata": {},
   "outputs": [],
   "source": [
    "a3 = np.arange(2,10,2)"
   ]
  },
  {
   "cell_type": "code",
   "execution_count": 17,
   "id": "234c649e",
   "metadata": {},
   "outputs": [
    {
     "data": {
      "text/plain": [
       "array([2, 4, 6, 8])"
      ]
     },
     "execution_count": 17,
     "metadata": {},
     "output_type": "execute_result"
    }
   ],
   "source": [
    "a3"
   ]
  },
  {
   "cell_type": "code",
   "execution_count": 18,
   "id": "54a97213",
   "metadata": {},
   "outputs": [],
   "source": [
    "a4 = np.ones((3,4) , dtype = int)"
   ]
  },
  {
   "cell_type": "code",
   "execution_count": 19,
   "id": "e5db2033",
   "metadata": {},
   "outputs": [
    {
     "data": {
      "text/plain": [
       "array([[1, 1, 1, 1],\n",
       "       [1, 1, 1, 1],\n",
       "       [1, 1, 1, 1]])"
      ]
     },
     "execution_count": 19,
     "metadata": {},
     "output_type": "execute_result"
    }
   ],
   "source": [
    "a4"
   ]
  },
  {
   "cell_type": "code",
   "execution_count": 22,
   "id": "b9b9b7aa",
   "metadata": {},
   "outputs": [],
   "source": [
    "a5 = np.linspace(10,30,3)"
   ]
  },
  {
   "cell_type": "code",
   "execution_count": 23,
   "id": "0222cd58",
   "metadata": {},
   "outputs": [
    {
     "data": {
      "text/plain": [
       "array([10., 20., 30.])"
      ]
     },
     "execution_count": 23,
     "metadata": {},
     "output_type": "execute_result"
    }
   ],
   "source": [
    "a5"
   ]
  },
  {
   "cell_type": "code",
   "execution_count": 5,
   "id": "c1ad2cc1",
   "metadata": {},
   "outputs": [],
   "source": [
    "a6 = np.random.randint(0,15,size=(3,4))"
   ]
  },
  {
   "cell_type": "code",
   "execution_count": 6,
   "id": "afce448c",
   "metadata": {},
   "outputs": [
    {
     "data": {
      "text/plain": [
       "array([[ 2,  2, 12,  1],\n",
       "       [13,  8,  0, 12],\n",
       "       [ 4,  2,  6,  7]])"
      ]
     },
     "execution_count": 6,
     "metadata": {},
     "output_type": "execute_result"
    }
   ],
   "source": [
    "a6"
   ]
  },
  {
   "cell_type": "code",
   "execution_count": 9,
   "id": "5376a982",
   "metadata": {},
   "outputs": [],
   "source": [
    "a7 = np.full((2,2,2),4)"
   ]
  },
  {
   "cell_type": "code",
   "execution_count": 10,
   "id": "29bddd2e",
   "metadata": {},
   "outputs": [
    {
     "data": {
      "text/plain": [
       "array([[[4, 4],\n",
       "        [4, 4]],\n",
       "\n",
       "       [[4, 4],\n",
       "        [4, 4]]])"
      ]
     },
     "execution_count": 10,
     "metadata": {},
     "output_type": "execute_result"
    }
   ],
   "source": [
    "a7"
   ]
  },
  {
   "cell_type": "code",
   "execution_count": 12,
   "id": "993d5808",
   "metadata": {},
   "outputs": [],
   "source": [
    "a8 = np.identity(4)"
   ]
  },
  {
   "cell_type": "code",
   "execution_count": 13,
   "id": "9b2bb9bc",
   "metadata": {},
   "outputs": [
    {
     "data": {
      "text/plain": [
       "array([[1., 0., 0., 0.],\n",
       "       [0., 1., 0., 0.],\n",
       "       [0., 0., 1., 0.],\n",
       "       [0., 0., 0., 1.]])"
      ]
     },
     "execution_count": 13,
     "metadata": {},
     "output_type": "execute_result"
    }
   ],
   "source": [
    "a8"
   ]
  },
  {
   "cell_type": "code",
   "execution_count": 15,
   "id": "afba13b6",
   "metadata": {},
   "outputs": [],
   "source": [
    "list = [1,2,3,4,5]\n",
    "a9 = np.asarray(list)\n"
   ]
  },
  {
   "cell_type": "code",
   "execution_count": 16,
   "id": "577bc994",
   "metadata": {},
   "outputs": [
    {
     "data": {
      "text/plain": [
       "array([1, 2, 3, 4, 5])"
      ]
     },
     "execution_count": 16,
     "metadata": {},
     "output_type": "execute_result"
    }
   ],
   "source": [
    "a9"
   ]
  },
  {
   "cell_type": "code",
   "execution_count": 17,
   "id": "4c7e1431",
   "metadata": {},
   "outputs": [],
   "source": [
    "a = (5,10)\n",
    "b = (5,12)"
   ]
  },
  {
   "cell_type": "code",
   "execution_count": 18,
   "id": "2915a009",
   "metadata": {},
   "outputs": [
    {
     "data": {
      "text/plain": [
       "array([ 25, 120])"
      ]
     },
     "execution_count": 18,
     "metadata": {},
     "output_type": "execute_result"
    }
   ],
   "source": [
    "np.multiply(a,b)"
   ]
  },
  {
   "cell_type": "code",
   "execution_count": 19,
   "id": "845d3070",
   "metadata": {},
   "outputs": [
    {
     "data": {
      "text/plain": [
       "array([1.        , 0.83333333])"
      ]
     },
     "execution_count": 19,
     "metadata": {},
     "output_type": "execute_result"
    }
   ],
   "source": [
    "np.divide(a,b)"
   ]
  },
  {
   "cell_type": "code",
   "execution_count": 20,
   "id": "b8f0f6da",
   "metadata": {},
   "outputs": [],
   "source": [
    "divide =np.divide(10,5)"
   ]
  },
  {
   "cell_type": "code",
   "execution_count": 22,
   "id": "1a5f3c48",
   "metadata": {},
   "outputs": [
    {
     "data": {
      "text/plain": [
       "2.0"
      ]
     },
     "execution_count": 22,
     "metadata": {},
     "output_type": "execute_result"
    }
   ],
   "source": [
    "divide"
   ]
  },
  {
   "cell_type": "code",
   "execution_count": 24,
   "id": "20828514",
   "metadata": {},
   "outputs": [],
   "source": [
    "mul =np.multiply(10,5)"
   ]
  },
  {
   "cell_type": "code",
   "execution_count": 25,
   "id": "5b026e07",
   "metadata": {},
   "outputs": [
    {
     "data": {
      "text/plain": [
       "50"
      ]
     },
     "execution_count": 25,
     "metadata": {},
     "output_type": "execute_result"
    }
   ],
   "source": [
    "mul"
   ]
  },
  {
   "cell_type": "markdown",
   "id": "55b700e3",
   "metadata": {},
   "source": [
    "# aggregation operation \n"
   ]
  },
  {
   "cell_type": "code",
   "execution_count": 26,
   "id": "4262e17f",
   "metadata": {},
   "outputs": [],
   "source": [
    "data = np.random.randint(1,10,(2,4))"
   ]
  },
  {
   "cell_type": "code",
   "execution_count": 27,
   "id": "f6f88683",
   "metadata": {},
   "outputs": [
    {
     "data": {
      "text/plain": [
       "array([[8, 5, 2, 1],\n",
       "       [2, 5, 3, 8]])"
      ]
     },
     "execution_count": 27,
     "metadata": {},
     "output_type": "execute_result"
    }
   ],
   "source": [
    "data"
   ]
  },
  {
   "cell_type": "code",
   "execution_count": 28,
   "id": "e04ab068",
   "metadata": {},
   "outputs": [
    {
     "name": "stdout",
     "output_type": "stream",
     "text": [
      "34\n",
      "[10 10  5  9]\n",
      "[16 18]\n"
     ]
    }
   ],
   "source": [
    "#sum\n",
    "print(np.sum(data))\n",
    "print(np.sum(data,axis=0))\n",
    "print(np.sum(data,axis=1))"
   ]
  },
  {
   "cell_type": "code",
   "execution_count": 29,
   "id": "86bd2dd9",
   "metadata": {},
   "outputs": [
    {
     "data": {
      "text/plain": [
       "8"
      ]
     },
     "execution_count": 29,
     "metadata": {},
     "output_type": "execute_result"
    }
   ],
   "source": [
    "data.max()"
   ]
  },
  {
   "cell_type": "code",
   "execution_count": 30,
   "id": "f3df188d",
   "metadata": {},
   "outputs": [
    {
     "data": {
      "text/plain": [
       "1"
      ]
     },
     "execution_count": 30,
     "metadata": {},
     "output_type": "execute_result"
    }
   ],
   "source": [
    "data.min()"
   ]
  },
  {
   "cell_type": "markdown",
   "id": "df041155",
   "metadata": {},
   "source": [
    "# Numpy array attributes "
   ]
  },
  {
   "cell_type": "code",
   "execution_count": 31,
   "id": "b47e437d",
   "metadata": {},
   "outputs": [
    {
     "name": "stdout",
     "output_type": "stream",
     "text": [
      "(2, 3)\n"
     ]
    }
   ],
   "source": [
    "a1 =np.array([[1,2,3],[4,5,6]])\n",
    "print(a1.shape)"
   ]
  },
  {
   "cell_type": "code",
   "execution_count": 32,
   "id": "2e4edab6",
   "metadata": {},
   "outputs": [
    {
     "name": "stdout",
     "output_type": "stream",
     "text": [
      "the dimension of a2: 2\n"
     ]
    }
   ],
   "source": [
    "a2 = np.array([[1,2,3],[4,5,6]])\n",
    "print(f\"the dimension of a2:\",a2.ndim)"
   ]
  },
  {
   "cell_type": "code",
   "execution_count": 33,
   "id": "3dda39c9",
   "metadata": {},
   "outputs": [
    {
     "name": "stdout",
     "output_type": "stream",
     "text": [
      "elments in a3 = 6\n"
     ]
    }
   ],
   "source": [
    "a3 = np.array([[1,2,3],[4,5,6]])\n",
    "print(f\"elments in a3 = {a3.size}\")"
   ]
  },
  {
   "cell_type": "code",
   "execution_count": 35,
   "id": "2ef80901",
   "metadata": {},
   "outputs": [
    {
     "name": "stdout",
     "output_type": "stream",
     "text": [
      "int32\n"
     ]
    }
   ],
   "source": [
    "a5 = np.array([1,2,3])\n",
    "print(a5.dtype)"
   ]
  },
  {
   "cell_type": "markdown",
   "id": "580c2b86",
   "metadata": {},
   "source": [
    "# Array Manipulation"
   ]
  },
  {
   "cell_type": "code",
   "execution_count": 36,
   "id": "7647a167",
   "metadata": {},
   "outputs": [
    {
     "data": {
      "text/plain": [
       "array([[4, 4, 3],\n",
       "       [2, 2, 5],\n",
       "       [5, 5, 5],\n",
       "       [4, 3, 4],\n",
       "       [5, 2, 3],\n",
       "       [4, 4, 1]])"
      ]
     },
     "execution_count": 36,
     "metadata": {},
     "output_type": "execute_result"
    }
   ],
   "source": [
    "a6 = np.array(np.random.randint(1,6,(6,3)))\n",
    "a6"
   ]
  },
  {
   "cell_type": "code",
   "execution_count": 38,
   "id": "2c928a70",
   "metadata": {},
   "outputs": [],
   "source": [
    "transpose_array = np.transpose(a6)"
   ]
  },
  {
   "cell_type": "code",
   "execution_count": 39,
   "id": "6c9c5ce4",
   "metadata": {},
   "outputs": [
    {
     "data": {
      "text/plain": [
       "array([[4, 2, 5, 4, 5, 4],\n",
       "       [4, 2, 5, 3, 2, 4],\n",
       "       [3, 5, 5, 4, 3, 1]])"
      ]
     },
     "execution_count": 39,
     "metadata": {},
     "output_type": "execute_result"
    }
   ],
   "source": [
    "transpose_array"
   ]
  },
  {
   "cell_type": "code",
   "execution_count": 40,
   "id": "8a034270",
   "metadata": {},
   "outputs": [],
   "source": [
    "a7 = np.array(np.random.randint(1,6,(6,3)))"
   ]
  },
  {
   "cell_type": "code",
   "execution_count": 50,
   "id": "d1d626c9",
   "metadata": {},
   "outputs": [
    {
     "data": {
      "text/plain": [
       "array([[5, 3, 3],\n",
       "       [2, 3, 1],\n",
       "       [1, 5, 5],\n",
       "       [2, 4, 2],\n",
       "       [3, 5, 1],\n",
       "       [3, 1, 5]])"
      ]
     },
     "execution_count": 50,
     "metadata": {},
     "output_type": "execute_result"
    }
   ],
   "source": [
    "a7"
   ]
  },
  {
   "cell_type": "code",
   "execution_count": 51,
   "id": "b33576ca",
   "metadata": {},
   "outputs": [
    {
     "data": {
      "text/plain": [
       "array([[3, 5],\n",
       "       [4, 1],\n",
       "       [1, 5],\n",
       "       [3, 2],\n",
       "       [4, 4],\n",
       "       [2, 1]])"
      ]
     },
     "execution_count": 51,
     "metadata": {},
     "output_type": "execute_result"
    }
   ],
   "source": [
    "a7 = np.array(np.random.randint(1,6,(6,2)))\n",
    "a7"
   ]
  },
  {
   "cell_type": "code",
   "execution_count": 52,
   "id": "56963bc3",
   "metadata": {},
   "outputs": [
    {
     "data": {
      "text/plain": [
       "array([3, 5, 4, 1, 1, 5, 3, 2, 4, 4, 2, 1])"
      ]
     },
     "execution_count": 52,
     "metadata": {},
     "output_type": "execute_result"
    }
   ],
   "source": [
    "a7.flatten()"
   ]
  },
  {
   "cell_type": "code",
   "execution_count": null,
   "id": "9d1bdd78",
   "metadata": {},
   "outputs": [],
   "source": []
  }
 ],
 "metadata": {
  "kernelspec": {
   "display_name": "Python 3 (ipykernel)",
   "language": "python",
   "name": "python3"
  },
  "language_info": {
   "codemirror_mode": {
    "name": "ipython",
    "version": 3
   },
   "file_extension": ".py",
   "mimetype": "text/x-python",
   "name": "python",
   "nbconvert_exporter": "python",
   "pygments_lexer": "ipython3",
   "version": "3.11.5"
  }
 },
 "nbformat": 4,
 "nbformat_minor": 5
}
