{
 "cells": [
  {
   "cell_type": "markdown",
   "id": "3851cec0",
   "metadata": {},
   "source": [
    "# list\n",
    "* empty list"
   ]
  },
  {
   "cell_type": "code",
   "execution_count": 2,
   "id": "46e685f3",
   "metadata": {},
   "outputs": [
    {
     "data": {
      "text/plain": [
       "[]"
      ]
     },
     "execution_count": 2,
     "metadata": {},
     "output_type": "execute_result"
    }
   ],
   "source": [
    "[]"
   ]
  },
  {
   "cell_type": "markdown",
   "id": "be10cef5",
   "metadata": {},
   "source": [
    "# Add list"
   ]
  },
  {
   "cell_type": "code",
   "execution_count": 3,
   "id": "dd1b0619",
   "metadata": {},
   "outputs": [],
   "source": [
    "l = ['sin','cos','tan','cot','sec','cosec']"
   ]
  },
  {
   "cell_type": "code",
   "execution_count": 4,
   "id": "5af3a055",
   "metadata": {},
   "outputs": [
    {
     "name": "stdout",
     "output_type": "stream",
     "text": [
      "['sin', 'cos', 'tan', 'cot', 'sec', 'cosec']\n"
     ]
    }
   ],
   "source": [
    "print(l)"
   ]
  },
  {
   "cell_type": "markdown",
   "id": "b7bf8221",
   "metadata": {},
   "source": [
    "# Append \n",
    "* Append is use to add an element to  end of the list"
   ]
  },
  {
   "cell_type": "code",
   "execution_count": 5,
   "id": "b480c46f",
   "metadata": {},
   "outputs": [],
   "source": [
    "l.append('&')"
   ]
  },
  {
   "cell_type": "code",
   "execution_count": 6,
   "id": "03219fb7",
   "metadata": {},
   "outputs": [
    {
     "name": "stdout",
     "output_type": "stream",
     "text": [
      "['sin', 'cos', 'tan', 'cot', 'sec', 'cosec', '&']\n"
     ]
    }
   ],
   "source": [
    "print(l)"
   ]
  },
  {
   "cell_type": "markdown",
   "id": "6606c8e2",
   "metadata": {},
   "source": [
    "# Clear\n",
    "* clear is use to remove all the items from list"
   ]
  },
  {
   "cell_type": "code",
   "execution_count": 7,
   "id": "c0814137",
   "metadata": {},
   "outputs": [],
   "source": [
    "l.clear()"
   ]
  },
  {
   "cell_type": "code",
   "execution_count": 8,
   "id": "3af6aa8d",
   "metadata": {},
   "outputs": [
    {
     "data": {
      "text/plain": [
       "[]"
      ]
     },
     "execution_count": 8,
     "metadata": {},
     "output_type": "execute_result"
    }
   ],
   "source": [
    "l"
   ]
  },
  {
   "cell_type": "markdown",
   "id": "17753bb1",
   "metadata": {},
   "source": [
    "# copy \n",
    "* copy function is use return a copy of the list as requested the user "
   ]
  },
  {
   "cell_type": "code",
   "execution_count": 16,
   "id": "5c757888",
   "metadata": {},
   "outputs": [],
   "source": [
    "l = ['sin','cos','tan','cot','sec','cosec']"
   ]
  },
  {
   "cell_type": "code",
   "execution_count": 17,
   "id": "d33aab16",
   "metadata": {},
   "outputs": [
    {
     "data": {
      "text/plain": [
       "['sin', 'cos', 'tan', 'cot', 'sec', 'cosec']"
      ]
     },
     "execution_count": 17,
     "metadata": {},
     "output_type": "execute_result"
    }
   ],
   "source": [
    "l"
   ]
  },
  {
   "cell_type": "code",
   "execution_count": 18,
   "id": "ca84a240",
   "metadata": {},
   "outputs": [],
   "source": [
    "l1 = l.copy()"
   ]
  },
  {
   "cell_type": "code",
   "execution_count": 19,
   "id": "b1114edf",
   "metadata": {},
   "outputs": [
    {
     "data": {
      "text/plain": [
       "['sin', 'cos', 'tan', 'cot', 'sec', 'cosec']"
      ]
     },
     "execution_count": 19,
     "metadata": {},
     "output_type": "execute_result"
    }
   ],
   "source": [
    "l1"
   ]
  },
  {
   "cell_type": "markdown",
   "id": "5d498178",
   "metadata": {},
   "source": [
    "# count\n",
    "* count function is use to return the number of itme present in the list"
   ]
  },
  {
   "cell_type": "code",
   "execution_count": 20,
   "id": "c6cd52c6",
   "metadata": {},
   "outputs": [],
   "source": [
    "l1 = l1.count('cot')"
   ]
  },
  {
   "cell_type": "code",
   "execution_count": 21,
   "id": "42af667b",
   "metadata": {},
   "outputs": [
    {
     "data": {
      "text/plain": [
       "1"
      ]
     },
     "execution_count": 21,
     "metadata": {},
     "output_type": "execute_result"
    }
   ],
   "source": [
    "l1"
   ]
  },
  {
   "cell_type": "markdown",
   "id": "8b7feb6c",
   "metadata": {},
   "source": [
    "# Extend \n",
    "* extend is use to add the element present in the list or any iterable to the end of the current list "
   ]
  },
  {
   "cell_type": "code",
   "execution_count": 24,
   "id": "0fef8487",
   "metadata": {},
   "outputs": [],
   "source": [
    "l = ['sin','cos','tan','cot','sec','cosec']"
   ]
  },
  {
   "cell_type": "code",
   "execution_count": 25,
   "id": "9ac04e8e",
   "metadata": {},
   "outputs": [
    {
     "data": {
      "text/plain": [
       "['sin', 'cos', 'tan', 'cot', 'sec', 'cosec']"
      ]
     },
     "execution_count": 25,
     "metadata": {},
     "output_type": "execute_result"
    }
   ],
   "source": [
    "l"
   ]
  },
  {
   "cell_type": "code",
   "execution_count": 42,
   "id": "c5d1cda1",
   "metadata": {},
   "outputs": [],
   "source": [
    "lr = [9,8]"
   ]
  },
  {
   "cell_type": "code",
   "execution_count": 43,
   "id": "f2eb21e5",
   "metadata": {},
   "outputs": [
    {
     "data": {
      "text/plain": [
       "[9, 8]"
      ]
     },
     "execution_count": 43,
     "metadata": {},
     "output_type": "execute_result"
    }
   ],
   "source": [
    "lr"
   ]
  },
  {
   "cell_type": "code",
   "execution_count": 44,
   "id": "10917040",
   "metadata": {},
   "outputs": [],
   "source": [
    "l.extend(lr)"
   ]
  },
  {
   "cell_type": "code",
   "execution_count": 45,
   "id": "df6a29e9",
   "metadata": {},
   "outputs": [
    {
     "name": "stdout",
     "output_type": "stream",
     "text": [
      "['sin', 'cos', 'tan', 'cot', 'sec', 'cosec', 1, 2, 3, 4, 1, 2, 3, 4, 1, 2, 3, 4, 1, 2, 3, 4, 1, 2, 3, 4, 1, 2, 3, 4, 9, 8]\n"
     ]
    }
   ],
   "source": [
    "print(l)"
   ]
  },
  {
   "cell_type": "markdown",
   "id": "8fd55a4d",
   "metadata": {},
   "source": [
    "# Index \n",
    "* Index is use to return the value of index of the first element \n",
    "* if the value is not present then reult is error "
   ]
  },
  {
   "cell_type": "code",
   "execution_count": 47,
   "id": "b3e70a63",
   "metadata": {},
   "outputs": [],
   "source": [
    "l = ['sin','cos','tan','cot','sec','cosec']"
   ]
  },
  {
   "cell_type": "code",
   "execution_count": 48,
   "id": "3379886b",
   "metadata": {},
   "outputs": [
    {
     "name": "stdout",
     "output_type": "stream",
     "text": [
      "['sin', 'cos', 'tan', 'cot', 'sec', 'cosec']\n"
     ]
    }
   ],
   "source": [
    "print(l)"
   ]
  },
  {
   "cell_type": "code",
   "execution_count": 49,
   "id": "268c11c7",
   "metadata": {},
   "outputs": [],
   "source": [
    "l = l.index('tan')"
   ]
  },
  {
   "cell_type": "code",
   "execution_count": 50,
   "id": "8a5ed378",
   "metadata": {},
   "outputs": [
    {
     "data": {
      "text/plain": [
       "2"
      ]
     },
     "execution_count": 50,
     "metadata": {},
     "output_type": "execute_result"
    }
   ],
   "source": [
    "l"
   ]
  },
  {
   "cell_type": "markdown",
   "id": "8592413c",
   "metadata": {},
   "source": [
    "# Insert \n",
    "* Insert function is use to specified valuse at the specified position "
   ]
  },
  {
   "cell_type": "code",
   "execution_count": 52,
   "id": "9d3cbc7a",
   "metadata": {},
   "outputs": [],
   "source": [
    "l = ['sin','cos','tan','cot','sec','cosec']"
   ]
  },
  {
   "cell_type": "code",
   "execution_count": 53,
   "id": "b6e6cf75",
   "metadata": {},
   "outputs": [
    {
     "data": {
      "text/plain": [
       "['sin', 'cos', 'tan', 'cot', 'sec', 'cosec']"
      ]
     },
     "execution_count": 53,
     "metadata": {},
     "output_type": "execute_result"
    }
   ],
   "source": [
    "l"
   ]
  },
  {
   "cell_type": "code",
   "execution_count": 54,
   "id": "7424c95f",
   "metadata": {},
   "outputs": [],
   "source": [
    "l.insert(3,'&')"
   ]
  },
  {
   "cell_type": "code",
   "execution_count": 55,
   "id": "93c2b5b6",
   "metadata": {},
   "outputs": [
    {
     "data": {
      "text/plain": [
       "['sin', 'cos', 'tan', '&', 'cot', 'sec', 'cosec']"
      ]
     },
     "execution_count": 55,
     "metadata": {},
     "output_type": "execute_result"
    }
   ],
   "source": [
    "l"
   ]
  },
  {
   "cell_type": "markdown",
   "id": "d29977c9",
   "metadata": {},
   "source": [
    "# pop\n",
    "* pop is use to remove the element at the specific position "
   ]
  },
  {
   "cell_type": "code",
   "execution_count": 56,
   "id": "00a61f02",
   "metadata": {},
   "outputs": [],
   "source": [
    "l = ['sin','cos','tan','cot','sec','cosec']"
   ]
  },
  {
   "cell_type": "code",
   "execution_count": 57,
   "id": "d96fec39",
   "metadata": {},
   "outputs": [
    {
     "data": {
      "text/plain": [
       "['sin', 'cos', 'tan', 'cot', 'sec', 'cosec']"
      ]
     },
     "execution_count": 57,
     "metadata": {},
     "output_type": "execute_result"
    }
   ],
   "source": [
    "l"
   ]
  },
  {
   "cell_type": "code",
   "execution_count": 58,
   "id": "c16d1a45",
   "metadata": {},
   "outputs": [
    {
     "data": {
      "text/plain": [
       "'sin'"
      ]
     },
     "execution_count": 58,
     "metadata": {},
     "output_type": "execute_result"
    }
   ],
   "source": [
    "l.pop(0)"
   ]
  },
  {
   "cell_type": "code",
   "execution_count": 59,
   "id": "54c6d392",
   "metadata": {},
   "outputs": [
    {
     "data": {
      "text/plain": [
       "['cos', 'tan', 'cot', 'sec', 'cosec']"
      ]
     },
     "execution_count": 59,
     "metadata": {},
     "output_type": "execute_result"
    }
   ],
   "source": [
    "l"
   ]
  },
  {
   "cell_type": "markdown",
   "id": "96d83c93",
   "metadata": {},
   "source": [
    "# Remove \n",
    "* Remove is use to remove the value of specific function "
   ]
  },
  {
   "cell_type": "code",
   "execution_count": 60,
   "id": "706d9794",
   "metadata": {},
   "outputs": [],
   "source": [
    "l = ['sin','cos','tan','cot','sec','cosec']"
   ]
  },
  {
   "cell_type": "code",
   "execution_count": 61,
   "id": "212195cc",
   "metadata": {},
   "outputs": [],
   "source": [
    "l.remove('cos')"
   ]
  },
  {
   "cell_type": "code",
   "execution_count": 62,
   "id": "d1f2eed9",
   "metadata": {},
   "outputs": [
    {
     "data": {
      "text/plain": [
       "['sin', 'tan', 'cot', 'sec', 'cosec']"
      ]
     },
     "execution_count": 62,
     "metadata": {},
     "output_type": "execute_result"
    }
   ],
   "source": [
    "l"
   ]
  },
  {
   "cell_type": "markdown",
   "id": "04a9e38b",
   "metadata": {},
   "source": [
    "# Reverse \n",
    "* This function is reverse the order of the item."
   ]
  },
  {
   "cell_type": "code",
   "execution_count": 63,
   "id": "a97e94fc",
   "metadata": {},
   "outputs": [],
   "source": [
    "l = ['sin','cos','tan','cot','sec','cosec']"
   ]
  },
  {
   "cell_type": "code",
   "execution_count": 64,
   "id": "39fc9191",
   "metadata": {},
   "outputs": [],
   "source": [
    "l.reverse()"
   ]
  },
  {
   "cell_type": "code",
   "execution_count": 65,
   "id": "f82bf049",
   "metadata": {},
   "outputs": [
    {
     "data": {
      "text/plain": [
       "['cosec', 'sec', 'cot', 'tan', 'cos', 'sin']"
      ]
     },
     "execution_count": 65,
     "metadata": {},
     "output_type": "execute_result"
    }
   ],
   "source": [
    "l"
   ]
  },
  {
   "cell_type": "markdown",
   "id": "b5d2ba86",
   "metadata": {},
   "source": [
    "# Sort \n",
    "* This function is use to sort the list in ascending order "
   ]
  },
  {
   "cell_type": "code",
   "execution_count": 68,
   "id": "682faaea",
   "metadata": {},
   "outputs": [],
   "source": [
    "lx =[43,23,2,3,99,87,45,92,29,19]"
   ]
  },
  {
   "cell_type": "code",
   "execution_count": 69,
   "id": "963914bf",
   "metadata": {},
   "outputs": [
    {
     "data": {
      "text/plain": [
       "[43, 23, 2, 3, 99, 87, 45, 92, 29, 19]"
      ]
     },
     "execution_count": 69,
     "metadata": {},
     "output_type": "execute_result"
    }
   ],
   "source": [
    "lx"
   ]
  },
  {
   "cell_type": "code",
   "execution_count": 70,
   "id": "2f46cec8",
   "metadata": {},
   "outputs": [],
   "source": [
    "lx.sort()"
   ]
  },
  {
   "cell_type": "code",
   "execution_count": 71,
   "id": "9aa4d10c",
   "metadata": {},
   "outputs": [
    {
     "data": {
      "text/plain": [
       "[2, 3, 19, 23, 29, 43, 45, 87, 92, 99]"
      ]
     },
     "execution_count": 71,
     "metadata": {},
     "output_type": "execute_result"
    }
   ],
   "source": [
    "lx"
   ]
  },
  {
   "cell_type": "code",
   "execution_count": 72,
   "id": "b9ea0106",
   "metadata": {},
   "outputs": [],
   "source": [
    "lx.sort(reverse= True)"
   ]
  },
  {
   "cell_type": "code",
   "execution_count": 73,
   "id": "1640fa44",
   "metadata": {},
   "outputs": [
    {
     "data": {
      "text/plain": [
       "[99, 92, 87, 45, 43, 29, 23, 19, 3, 2]"
      ]
     },
     "execution_count": 73,
     "metadata": {},
     "output_type": "execute_result"
    }
   ],
   "source": [
    "lx"
   ]
  },
  {
   "cell_type": "code",
   "execution_count": null,
   "id": "9ebe2f82",
   "metadata": {},
   "outputs": [],
   "source": []
  }
 ],
 "metadata": {
  "kernelspec": {
   "display_name": "Python 3 (ipykernel)",
   "language": "python",
   "name": "python3"
  },
  "language_info": {
   "codemirror_mode": {
    "name": "ipython",
    "version": 3
   },
   "file_extension": ".py",
   "mimetype": "text/x-python",
   "name": "python",
   "nbconvert_exporter": "python",
   "pygments_lexer": "ipython3",
   "version": "3.11.5"
  }
 },
 "nbformat": 4,
 "nbformat_minor": 5
}
