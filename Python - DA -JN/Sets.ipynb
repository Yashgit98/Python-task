{
 "cells": [
  {
   "cell_type": "markdown",
   "id": "8eb4b849",
   "metadata": {},
   "source": [
    "# SETS\n",
    "* Sets are used to store multiple itmes in a single variable."
   ]
  },
  {
   "cell_type": "code",
   "execution_count": 1,
   "id": "28db7ec0",
   "metadata": {},
   "outputs": [
    {
     "data": {
      "text/plain": [
       "()"
      ]
     },
     "execution_count": 1,
     "metadata": {},
     "output_type": "execute_result"
    }
   ],
   "source": [
    "# empty sets \n",
    "set = ()\n",
    "set"
   ]
  },
  {
   "cell_type": "code",
   "execution_count": 2,
   "id": "7e877645",
   "metadata": {},
   "outputs": [
    {
     "data": {
      "text/plain": [
       "{1, 2, 3, 4, 5}"
      ]
     },
     "execution_count": 2,
     "metadata": {},
     "output_type": "execute_result"
    }
   ],
   "source": [
    "# set with curley braces \n",
    "set1 = {1,2,3,4,5}\n",
    "set1"
   ]
  },
  {
   "cell_type": "code",
   "execution_count": 4,
   "id": "d385f691",
   "metadata": {},
   "outputs": [
    {
     "data": {
      "text/plain": [
       "[11, 22, 33, 44, 55]"
      ]
     },
     "execution_count": 4,
     "metadata": {},
     "output_type": "execute_result"
    }
   ],
   "source": [
    "# set function\n",
    "sets = ([11,22,33,44,55])\n",
    "sets"
   ]
  },
  {
   "cell_type": "markdown",
   "id": "c88f7f59",
   "metadata": {},
   "source": [
    "# add()\n",
    "* adds an element to the sets.if the element already exists , the set remains unchanged."
   ]
  },
  {
   "cell_type": "code",
   "execution_count": 5,
   "id": "77aefd68",
   "metadata": {},
   "outputs": [
    {
     "data": {
      "text/plain": [
       "{1, 2, 3, 4, 5}"
      ]
     },
     "execution_count": 5,
     "metadata": {},
     "output_type": "execute_result"
    }
   ],
   "source": [
    "set1"
   ]
  },
  {
   "cell_type": "code",
   "execution_count": 6,
   "id": "67b11f3d",
   "metadata": {},
   "outputs": [],
   "source": [
    "set1.add(6)"
   ]
  },
  {
   "cell_type": "code",
   "execution_count": 7,
   "id": "86bc0b2b",
   "metadata": {},
   "outputs": [
    {
     "data": {
      "text/plain": [
       "{1, 2, 3, 4, 5, 6}"
      ]
     },
     "execution_count": 7,
     "metadata": {},
     "output_type": "execute_result"
    }
   ],
   "source": [
    "set1"
   ]
  },
  {
   "cell_type": "markdown",
   "id": "48e79f4c",
   "metadata": {},
   "source": [
    "# clear()\n",
    "* it removes all element from the set,leaving it empty."
   ]
  },
  {
   "cell_type": "code",
   "execution_count": 8,
   "id": "03e8e418",
   "metadata": {},
   "outputs": [],
   "source": [
    "set1.clear()"
   ]
  },
  {
   "cell_type": "code",
   "execution_count": 9,
   "id": "ac1c4281",
   "metadata": {},
   "outputs": [
    {
     "data": {
      "text/plain": [
       "set()"
      ]
     },
     "execution_count": 9,
     "metadata": {},
     "output_type": "execute_result"
    }
   ],
   "source": [
    "set1"
   ]
  },
  {
   "cell_type": "markdown",
   "id": "131216a3",
   "metadata": {},
   "source": [
    "# copy()\n",
    "* it returns a shallow copy of the sets.\n"
   ]
  },
  {
   "cell_type": "code",
   "execution_count": 11,
   "id": "3499b164",
   "metadata": {},
   "outputs": [],
   "source": [
    "set1 = {1,2,3,4,5}"
   ]
  },
  {
   "cell_type": "code",
   "execution_count": 12,
   "id": "81284850",
   "metadata": {},
   "outputs": [
    {
     "data": {
      "text/plain": [
       "{1, 2, 3, 4, 5}"
      ]
     },
     "execution_count": 12,
     "metadata": {},
     "output_type": "execute_result"
    }
   ],
   "source": [
    "set1"
   ]
  },
  {
   "cell_type": "code",
   "execution_count": 13,
   "id": "29d1fdb9",
   "metadata": {},
   "outputs": [
    {
     "data": {
      "text/plain": [
       "{1, 2, 3, 4, 5}"
      ]
     },
     "execution_count": 13,
     "metadata": {},
     "output_type": "execute_result"
    }
   ],
   "source": [
    "set1.copy()"
   ]
  },
  {
   "cell_type": "code",
   "execution_count": 14,
   "id": "aa3c73a1",
   "metadata": {},
   "outputs": [
    {
     "data": {
      "text/plain": [
       "{1, 2, 3, 4, 5}"
      ]
     },
     "execution_count": 14,
     "metadata": {},
     "output_type": "execute_result"
    }
   ],
   "source": [
    "set1"
   ]
  },
  {
   "cell_type": "markdown",
   "id": "f792c2bd",
   "metadata": {},
   "source": [
    "# difference()\n",
    "* it returns a new set with elements that are in the set but not in the others."
   ]
  },
  {
   "cell_type": "code",
   "execution_count": 15,
   "id": "02cf4ce1",
   "metadata": {},
   "outputs": [],
   "source": [
    "s1 = {1,2,3}\n",
    "s2 = {4,3,2}"
   ]
  },
  {
   "cell_type": "code",
   "execution_count": 16,
   "id": "466c9bd6",
   "metadata": {},
   "outputs": [],
   "source": [
    "diff_set = s1.difference(s2)"
   ]
  },
  {
   "cell_type": "code",
   "execution_count": 17,
   "id": "a0477847",
   "metadata": {},
   "outputs": [
    {
     "data": {
      "text/plain": [
       "{1}"
      ]
     },
     "execution_count": 17,
     "metadata": {},
     "output_type": "execute_result"
    }
   ],
   "source": [
    "diff_set"
   ]
  },
  {
   "cell_type": "markdown",
   "id": "4ae019d2",
   "metadata": {},
   "source": [
    "# difference_update()\n",
    "* it removes elements from the sets that are also in the other."
   ]
  },
  {
   "cell_type": "code",
   "execution_count": 18,
   "id": "5c4a7c6f",
   "metadata": {},
   "outputs": [
    {
     "data": {
      "text/plain": [
       "{1, 2, 3}"
      ]
     },
     "execution_count": 18,
     "metadata": {},
     "output_type": "execute_result"
    }
   ],
   "source": [
    "s1"
   ]
  },
  {
   "cell_type": "code",
   "execution_count": 20,
   "id": "d8439a20",
   "metadata": {},
   "outputs": [
    {
     "data": {
      "text/plain": [
       "{2, 3, 4}"
      ]
     },
     "execution_count": 20,
     "metadata": {},
     "output_type": "execute_result"
    }
   ],
   "source": [
    "s2"
   ]
  },
  {
   "cell_type": "code",
   "execution_count": 21,
   "id": "50c5ebc2",
   "metadata": {},
   "outputs": [],
   "source": [
    "s1.difference_update(s2)"
   ]
  },
  {
   "cell_type": "code",
   "execution_count": 22,
   "id": "27034503",
   "metadata": {},
   "outputs": [
    {
     "data": {
      "text/plain": [
       "{1}"
      ]
     },
     "execution_count": 22,
     "metadata": {},
     "output_type": "execute_result"
    }
   ],
   "source": [
    "s1"
   ]
  },
  {
   "cell_type": "markdown",
   "id": "35409f7d",
   "metadata": {},
   "source": [
    "# discard()\n",
    "* it removes an element from the set,if it is a member.if the element is not a member,do nothing."
   ]
  },
  {
   "cell_type": "code",
   "execution_count": 23,
   "id": "d1dfd572",
   "metadata": {},
   "outputs": [],
   "source": [
    "set1 = {1,2,3,4,5}"
   ]
  },
  {
   "cell_type": "code",
   "execution_count": 24,
   "id": "e8feb01f",
   "metadata": {},
   "outputs": [
    {
     "data": {
      "text/plain": [
       "{1, 2, 3, 4, 5}"
      ]
     },
     "execution_count": 24,
     "metadata": {},
     "output_type": "execute_result"
    }
   ],
   "source": [
    "set1"
   ]
  },
  {
   "cell_type": "code",
   "execution_count": 26,
   "id": "0e6de1b6",
   "metadata": {},
   "outputs": [],
   "source": [
    "set1.discard(2)"
   ]
  },
  {
   "cell_type": "code",
   "execution_count": 27,
   "id": "39d2fda1",
   "metadata": {},
   "outputs": [
    {
     "data": {
      "text/plain": [
       "{1, 3, 4, 5}"
      ]
     },
     "execution_count": 27,
     "metadata": {},
     "output_type": "execute_result"
    }
   ],
   "source": [
    "set1"
   ]
  },
  {
   "cell_type": "markdown",
   "id": "1778f376",
   "metadata": {},
   "source": [
    "# intersection()\n",
    "* it returns a new set with element commin to set and all others"
   ]
  },
  {
   "cell_type": "code",
   "execution_count": 30,
   "id": "35cdb469",
   "metadata": {},
   "outputs": [],
   "source": [
    "s1 = {1,2,3}\n",
    "s2 = {4,3,2}"
   ]
  },
  {
   "cell_type": "code",
   "execution_count": 31,
   "id": "166590db",
   "metadata": {},
   "outputs": [
    {
     "data": {
      "text/plain": [
       "{2, 3}"
      ]
     },
     "execution_count": 31,
     "metadata": {},
     "output_type": "execute_result"
    }
   ],
   "source": [
    "s1.intersection(s2)"
   ]
  },
  {
   "cell_type": "markdown",
   "id": "49bb786e",
   "metadata": {},
   "source": [
    "# intersection_update()\n",
    "* it updates the set,keeping only elements found in it and all others."
   ]
  },
  {
   "cell_type": "code",
   "execution_count": 32,
   "id": "05f9a3b8",
   "metadata": {},
   "outputs": [],
   "source": [
    "s1 = {1,2,3}\n",
    "s2 = {4,3,2}"
   ]
  },
  {
   "cell_type": "code",
   "execution_count": 33,
   "id": "d90d7764",
   "metadata": {},
   "outputs": [],
   "source": [
    "s1.intersection_update(s2)"
   ]
  },
  {
   "cell_type": "code",
   "execution_count": 34,
   "id": "9aec52f3",
   "metadata": {},
   "outputs": [
    {
     "data": {
      "text/plain": [
       "{2, 3}"
      ]
     },
     "execution_count": 34,
     "metadata": {},
     "output_type": "execute_result"
    }
   ],
   "source": [
    "s1"
   ]
  },
  {
   "cell_type": "markdown",
   "id": "93482739",
   "metadata": {},
   "source": [
    "# Isdisjoint()\n",
    "* This methods returns true if the set has no elemnts in common with other.if the set and other are disjoint,returns false otherwise."
   ]
  },
  {
   "cell_type": "code",
   "execution_count": 35,
   "id": "9a8745f8",
   "metadata": {},
   "outputs": [],
   "source": [
    "s1 = {1,2,3}\n",
    "s2 = {4,3,2}"
   ]
  },
  {
   "cell_type": "code",
   "execution_count": 36,
   "id": "8d7d85db",
   "metadata": {},
   "outputs": [
    {
     "data": {
      "text/plain": [
       "False"
      ]
     },
     "execution_count": 36,
     "metadata": {},
     "output_type": "execute_result"
    }
   ],
   "source": [
    "s1.isdisjoint(s2)"
   ]
  },
  {
   "cell_type": "markdown",
   "id": "15968789",
   "metadata": {},
   "source": [
    "# Issubset()\n",
    "* it returns true  if all elemnts of the sets are in other ,false otherwise."
   ]
  },
  {
   "cell_type": "code",
   "execution_count": 37,
   "id": "eeebef03",
   "metadata": {},
   "outputs": [
    {
     "data": {
      "text/plain": [
       "False"
      ]
     },
     "execution_count": 37,
     "metadata": {},
     "output_type": "execute_result"
    }
   ],
   "source": [
    "s1.issubset(s2)"
   ]
  },
  {
   "cell_type": "markdown",
   "id": "23c01251",
   "metadata": {},
   "source": [
    "# issuperset()\n",
    "* this method returns true if all elements of other are in the set,false otherwise."
   ]
  },
  {
   "cell_type": "code",
   "execution_count": 39,
   "id": "1760b7c3",
   "metadata": {},
   "outputs": [
    {
     "data": {
      "text/plain": [
       "False"
      ]
     },
     "execution_count": 39,
     "metadata": {},
     "output_type": "execute_result"
    }
   ],
   "source": [
    "s1.issuperset(s2)"
   ]
  },
  {
   "cell_type": "markdown",
   "id": "3217ccfb",
   "metadata": {},
   "source": [
    "# pop()\n",
    "* It removes and returns an arbitary element from the sets. raises key error if the set is empty."
   ]
  },
  {
   "cell_type": "code",
   "execution_count": 41,
   "id": "5ff512b9",
   "metadata": {},
   "outputs": [],
   "source": [
    "set1 = {1,2,3,4,5}"
   ]
  },
  {
   "cell_type": "code",
   "execution_count": 42,
   "id": "f7c59f54",
   "metadata": {},
   "outputs": [
    {
     "data": {
      "text/plain": [
       "{1, 2, 3, 4, 5}"
      ]
     },
     "execution_count": 42,
     "metadata": {},
     "output_type": "execute_result"
    }
   ],
   "source": [
    "set1"
   ]
  },
  {
   "cell_type": "code",
   "execution_count": 43,
   "id": "f449d2c1",
   "metadata": {},
   "outputs": [
    {
     "data": {
      "text/plain": [
       "1"
      ]
     },
     "execution_count": 43,
     "metadata": {},
     "output_type": "execute_result"
    }
   ],
   "source": [
    "set1.pop()"
   ]
  },
  {
   "cell_type": "code",
   "execution_count": 44,
   "id": "7f22df19",
   "metadata": {},
   "outputs": [
    {
     "data": {
      "text/plain": [
       "{2, 3, 4, 5}"
      ]
     },
     "execution_count": 44,
     "metadata": {},
     "output_type": "execute_result"
    }
   ],
   "source": [
    "set1"
   ]
  },
  {
   "cell_type": "markdown",
   "id": "2d7fb20b",
   "metadata": {},
   "source": [
    "# symmetric_difference()\n",
    "* it returns a new set with element in either the set or other but not in both."
   ]
  },
  {
   "cell_type": "code",
   "execution_count": 45,
   "id": "7b0ba960",
   "metadata": {},
   "outputs": [
    {
     "data": {
      "text/plain": [
       "{1, 2, 3}"
      ]
     },
     "execution_count": 45,
     "metadata": {},
     "output_type": "execute_result"
    }
   ],
   "source": [
    "s1"
   ]
  },
  {
   "cell_type": "code",
   "execution_count": 46,
   "id": "0588c725",
   "metadata": {},
   "outputs": [
    {
     "data": {
      "text/plain": [
       "{2, 3, 4}"
      ]
     },
     "execution_count": 46,
     "metadata": {},
     "output_type": "execute_result"
    }
   ],
   "source": [
    "s2"
   ]
  },
  {
   "cell_type": "code",
   "execution_count": 48,
   "id": "45446e62",
   "metadata": {},
   "outputs": [
    {
     "data": {
      "text/plain": [
       "{1, 4}"
      ]
     },
     "execution_count": 48,
     "metadata": {},
     "output_type": "execute_result"
    }
   ],
   "source": [
    "s1.symmetric_difference(s2)"
   ]
  },
  {
   "cell_type": "markdown",
   "id": "4755282b",
   "metadata": {},
   "source": [
    "# symmetric_differnce_update ()"
   ]
  },
  {
   "cell_type": "code",
   "execution_count": 50,
   "id": "3bf995aa",
   "metadata": {},
   "outputs": [],
   "source": [
    "s1.symmetric_difference_update(s2)"
   ]
  },
  {
   "cell_type": "code",
   "execution_count": 51,
   "id": "505a9906",
   "metadata": {},
   "outputs": [
    {
     "data": {
      "text/plain": [
       "{1, 4}"
      ]
     },
     "execution_count": 51,
     "metadata": {},
     "output_type": "execute_result"
    }
   ],
   "source": [
    "s1"
   ]
  },
  {
   "cell_type": "markdown",
   "id": "ef64140b",
   "metadata": {},
   "source": [
    "# union()\n",
    "* It returns a new set with elements from the set and all others."
   ]
  },
  {
   "cell_type": "code",
   "execution_count": 52,
   "id": "f4e6b56c",
   "metadata": {},
   "outputs": [
    {
     "data": {
      "text/plain": [
       "{1, 2, 3, 4}"
      ]
     },
     "execution_count": 52,
     "metadata": {},
     "output_type": "execute_result"
    }
   ],
   "source": [
    "s1.union(s2)"
   ]
  },
  {
   "cell_type": "markdown",
   "id": "200fa8e5",
   "metadata": {},
   "source": [
    "# update()\n",
    "* This methods update the sets,adding elements from all others."
   ]
  },
  {
   "cell_type": "code",
   "execution_count": 53,
   "id": "89eabe4d",
   "metadata": {},
   "outputs": [],
   "source": [
    "s1.update(s2)"
   ]
  },
  {
   "cell_type": "code",
   "execution_count": 54,
   "id": "bf3eb456",
   "metadata": {},
   "outputs": [
    {
     "data": {
      "text/plain": [
       "{1, 2, 3, 4}"
      ]
     },
     "execution_count": 54,
     "metadata": {},
     "output_type": "execute_result"
    }
   ],
   "source": [
    "s1"
   ]
  },
  {
   "cell_type": "code",
   "execution_count": null,
   "id": "0f2c636c",
   "metadata": {},
   "outputs": [],
   "source": []
  }
 ],
 "metadata": {
  "kernelspec": {
   "display_name": "Python 3 (ipykernel)",
   "language": "python",
   "name": "python3"
  },
  "language_info": {
   "codemirror_mode": {
    "name": "ipython",
    "version": 3
   },
   "file_extension": ".py",
   "mimetype": "text/x-python",
   "name": "python",
   "nbconvert_exporter": "python",
   "pygments_lexer": "ipython3",
   "version": "3.11.5"
  }
 },
 "nbformat": 4,
 "nbformat_minor": 5
}
