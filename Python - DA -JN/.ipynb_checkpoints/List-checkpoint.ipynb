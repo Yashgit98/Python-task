{
 "cells": [
  {
   "cell_type": "markdown",
   "id": "6a47f747",
   "metadata": {},
   "source": [
    "# list\n",
    "* empty list"
   ]
  },
  {
   "cell_type": "code",
   "execution_count": 2,
   "id": "f9f077af",
   "metadata": {},
   "outputs": [
    {
     "data": {
      "text/plain": [
       "[]"
      ]
     },
     "execution_count": 2,
     "metadata": {},
     "output_type": "execute_result"
    }
   ],
   "source": [
    "[]"
   ]
  },
  {
   "cell_type": "markdown",
   "id": "82b3754b",
   "metadata": {},
   "source": [
    "# Add list"
   ]
  },
  {
   "cell_type": "code",
   "execution_count": 3,
   "id": "90cda50a",
   "metadata": {},
   "outputs": [],
   "source": [
    "l = ['sin','cos','tan','cot','sec','cosec']"
   ]
  },
  {
   "cell_type": "code",
   "execution_count": 4,
   "id": "dc092840",
   "metadata": {},
   "outputs": [
    {
     "name": "stdout",
     "output_type": "stream",
     "text": [
      "['sin', 'cos', 'tan', 'cot', 'sec', 'cosec']\n"
     ]
    }
   ],
   "source": [
    "print(l)"
   ]
  },
  {
   "cell_type": "markdown",
   "id": "a0c6a9ff",
   "metadata": {},
   "source": [
    "# Append \n",
    "* Append is use to add an element to  end of the list"
   ]
  },
  {
   "cell_type": "code",
   "execution_count": 5,
   "id": "d0b54a49",
   "metadata": {},
   "outputs": [],
   "source": [
    "l.append('&')"
   ]
  },
  {
   "cell_type": "code",
   "execution_count": 6,
   "id": "7a2fdb82",
   "metadata": {},
   "outputs": [
    {
     "name": "stdout",
     "output_type": "stream",
     "text": [
      "['sin', 'cos', 'tan', 'cot', 'sec', 'cosec', '&']\n"
     ]
    }
   ],
   "source": [
    "print(l)"
   ]
  },
  {
   "cell_type": "markdown",
   "id": "17538ea1",
   "metadata": {},
   "source": [
    "# Clear\n",
    "* clear is use to remove all the items from list"
   ]
  },
  {
   "cell_type": "code",
   "execution_count": 7,
   "id": "9e01154b",
   "metadata": {},
   "outputs": [],
   "source": [
    "l.clear()"
   ]
  },
  {
   "cell_type": "code",
   "execution_count": 8,
   "id": "be8d2353",
   "metadata": {},
   "outputs": [
    {
     "data": {
      "text/plain": [
       "[]"
      ]
     },
     "execution_count": 8,
     "metadata": {},
     "output_type": "execute_result"
    }
   ],
   "source": [
    "l"
   ]
  },
  {
   "cell_type": "markdown",
   "id": "5c9de7ac",
   "metadata": {},
   "source": [
    "# copy \n",
    "* copy function is use return a copy of the list as requested the user "
   ]
  },
  {
   "cell_type": "code",
   "execution_count": 16,
   "id": "f3793233",
   "metadata": {},
   "outputs": [],
   "source": [
    "l = ['sin','cos','tan','cot','sec','cosec']"
   ]
  },
  {
   "cell_type": "code",
   "execution_count": 17,
   "id": "ec745948",
   "metadata": {},
   "outputs": [
    {
     "data": {
      "text/plain": [
       "['sin', 'cos', 'tan', 'cot', 'sec', 'cosec']"
      ]
     },
     "execution_count": 17,
     "metadata": {},
     "output_type": "execute_result"
    }
   ],
   "source": [
    "l"
   ]
  },
  {
   "cell_type": "code",
   "execution_count": 18,
   "id": "5a67d402",
   "metadata": {},
   "outputs": [],
   "source": [
    "l1 = l.copy()"
   ]
  },
  {
   "cell_type": "code",
   "execution_count": 19,
   "id": "12162432",
   "metadata": {},
   "outputs": [
    {
     "data": {
      "text/plain": [
       "['sin', 'cos', 'tan', 'cot', 'sec', 'cosec']"
      ]
     },
     "execution_count": 19,
     "metadata": {},
     "output_type": "execute_result"
    }
   ],
   "source": [
    "l1"
   ]
  },
  {
   "cell_type": "markdown",
   "id": "41263bf7",
   "metadata": {},
   "source": [
    "# count\n",
    "* count function is use to return the number of itme present in the list"
   ]
  },
  {
   "cell_type": "code",
   "execution_count": 20,
   "id": "e2f804ef",
   "metadata": {},
   "outputs": [],
   "source": [
    "l1 = l1.count('cot')"
   ]
  },
  {
   "cell_type": "code",
   "execution_count": 21,
   "id": "f31b669d",
   "metadata": {},
   "outputs": [
    {
     "data": {
      "text/plain": [
       "1"
      ]
     },
     "execution_count": 21,
     "metadata": {},
     "output_type": "execute_result"
    }
   ],
   "source": [
    "l1"
   ]
  },
  {
   "cell_type": "markdown",
   "id": "79d95472",
   "metadata": {},
   "source": [
    "# Extend \n",
    "* extend is use to add the element present in the list or any iterable to the end of the current list "
   ]
  },
  {
   "cell_type": "code",
   "execution_count": 24,
   "id": "00edc3f6",
   "metadata": {},
   "outputs": [],
   "source": [
    "l = ['sin','cos','tan','cot','sec','cosec']"
   ]
  },
  {
   "cell_type": "code",
   "execution_count": 25,
   "id": "c3cd184c",
   "metadata": {},
   "outputs": [
    {
     "data": {
      "text/plain": [
       "['sin', 'cos', 'tan', 'cot', 'sec', 'cosec']"
      ]
     },
     "execution_count": 25,
     "metadata": {},
     "output_type": "execute_result"
    }
   ],
   "source": [
    "l"
   ]
  },
  {
   "cell_type": "code",
   "execution_count": 42,
   "id": "9390455c",
   "metadata": {},
   "outputs": [],
   "source": [
    "lr = [9,8]"
   ]
  },
  {
   "cell_type": "code",
   "execution_count": 43,
   "id": "28fb2178",
   "metadata": {},
   "outputs": [
    {
     "data": {
      "text/plain": [
       "[9, 8]"
      ]
     },
     "execution_count": 43,
     "metadata": {},
     "output_type": "execute_result"
    }
   ],
   "source": [
    "lr"
   ]
  },
  {
   "cell_type": "code",
   "execution_count": 44,
   "id": "a368d421",
   "metadata": {},
   "outputs": [],
   "source": [
    "l.extend(lr)"
   ]
  },
  {
   "cell_type": "code",
   "execution_count": 45,
   "id": "5961ffa0",
   "metadata": {},
   "outputs": [
    {
     "name": "stdout",
     "output_type": "stream",
     "text": [
      "['sin', 'cos', 'tan', 'cot', 'sec', 'cosec', 1, 2, 3, 4, 1, 2, 3, 4, 1, 2, 3, 4, 1, 2, 3, 4, 1, 2, 3, 4, 1, 2, 3, 4, 9, 8]\n"
     ]
    }
   ],
   "source": [
    "print(l)"
   ]
  },
  {
   "cell_type": "markdown",
   "id": "83fe8259",
   "metadata": {},
   "source": [
    "# Index \n",
    "* Index is use to return the value of index of the first element \n",
    "* if the value is not present then reult is error "
   ]
  },
  {
   "cell_type": "code",
   "execution_count": 47,
   "id": "d1fba6ab",
   "metadata": {},
   "outputs": [],
   "source": [
    "l = ['sin','cos','tan','cot','sec','cosec']"
   ]
  },
  {
   "cell_type": "code",
   "execution_count": 48,
   "id": "b515d504",
   "metadata": {},
   "outputs": [
    {
     "name": "stdout",
     "output_type": "stream",
     "text": [
      "['sin', 'cos', 'tan', 'cot', 'sec', 'cosec']\n"
     ]
    }
   ],
   "source": [
    "print(l)"
   ]
  },
  {
   "cell_type": "code",
   "execution_count": 49,
   "id": "122e7159",
   "metadata": {},
   "outputs": [],
   "source": [
    "l = l.index('tan')"
   ]
  },
  {
   "cell_type": "code",
   "execution_count": 50,
   "id": "32373d1c",
   "metadata": {},
   "outputs": [
    {
     "data": {
      "text/plain": [
       "2"
      ]
     },
     "execution_count": 50,
     "metadata": {},
     "output_type": "execute_result"
    }
   ],
   "source": [
    "l"
   ]
  },
  {
   "cell_type": "markdown",
   "id": "af587002",
   "metadata": {},
   "source": [
    "# Insert \n",
    "* Insert function is use to specified valuse at the specified position "
   ]
  },
  {
   "cell_type": "code",
   "execution_count": 52,
   "id": "0ae13244",
   "metadata": {},
   "outputs": [],
   "source": [
    "l = ['sin','cos','tan','cot','sec','cosec']"
   ]
  },
  {
   "cell_type": "code",
   "execution_count": 53,
   "id": "568b8c04",
   "metadata": {},
   "outputs": [
    {
     "data": {
      "text/plain": [
       "['sin', 'cos', 'tan', 'cot', 'sec', 'cosec']"
      ]
     },
     "execution_count": 53,
     "metadata": {},
     "output_type": "execute_result"
    }
   ],
   "source": [
    "l"
   ]
  },
  {
   "cell_type": "code",
   "execution_count": 54,
   "id": "0d87d312",
   "metadata": {},
   "outputs": [],
   "source": [
    "l.insert(3,'&')"
   ]
  },
  {
   "cell_type": "code",
   "execution_count": 55,
   "id": "754eb5ac",
   "metadata": {},
   "outputs": [
    {
     "data": {
      "text/plain": [
       "['sin', 'cos', 'tan', '&', 'cot', 'sec', 'cosec']"
      ]
     },
     "execution_count": 55,
     "metadata": {},
     "output_type": "execute_result"
    }
   ],
   "source": [
    "l"
   ]
  },
  {
   "cell_type": "markdown",
   "id": "a4c2a436",
   "metadata": {},
   "source": [
    "# pop\n",
    "* pop is use to remove the element at the specific position "
   ]
  },
  {
   "cell_type": "code",
   "execution_count": 56,
   "id": "6e2b0bb6",
   "metadata": {},
   "outputs": [],
   "source": [
    "l = ['sin','cos','tan','cot','sec','cosec']"
   ]
  },
  {
   "cell_type": "code",
   "execution_count": 57,
   "id": "887ff99d",
   "metadata": {},
   "outputs": [
    {
     "data": {
      "text/plain": [
       "['sin', 'cos', 'tan', 'cot', 'sec', 'cosec']"
      ]
     },
     "execution_count": 57,
     "metadata": {},
     "output_type": "execute_result"
    }
   ],
   "source": [
    "l"
   ]
  },
  {
   "cell_type": "code",
   "execution_count": 58,
   "id": "9e89c657",
   "metadata": {},
   "outputs": [
    {
     "data": {
      "text/plain": [
       "'sin'"
      ]
     },
     "execution_count": 58,
     "metadata": {},
     "output_type": "execute_result"
    }
   ],
   "source": [
    "l.pop(0)"
   ]
  },
  {
   "cell_type": "code",
   "execution_count": 59,
   "id": "59a4c412",
   "metadata": {},
   "outputs": [
    {
     "data": {
      "text/plain": [
       "['cos', 'tan', 'cot', 'sec', 'cosec']"
      ]
     },
     "execution_count": 59,
     "metadata": {},
     "output_type": "execute_result"
    }
   ],
   "source": [
    "l"
   ]
  },
  {
   "cell_type": "markdown",
   "id": "8395e48c",
   "metadata": {},
   "source": [
    "# Remove \n",
    "* Remove is use to remove the value of specific function "
   ]
  },
  {
   "cell_type": "code",
   "execution_count": 60,
   "id": "e8ca2023",
   "metadata": {},
   "outputs": [],
   "source": [
    "l = ['sin','cos','tan','cot','sec','cosec']"
   ]
  },
  {
   "cell_type": "code",
   "execution_count": 61,
   "id": "8fb5ccc2",
   "metadata": {},
   "outputs": [],
   "source": [
    "l.remove('cos')"
   ]
  },
  {
   "cell_type": "code",
   "execution_count": 62,
   "id": "60871993",
   "metadata": {},
   "outputs": [
    {
     "data": {
      "text/plain": [
       "['sin', 'tan', 'cot', 'sec', 'cosec']"
      ]
     },
     "execution_count": 62,
     "metadata": {},
     "output_type": "execute_result"
    }
   ],
   "source": [
    "l"
   ]
  },
  {
   "cell_type": "markdown",
   "id": "f6a97f93",
   "metadata": {},
   "source": [
    "# Reverse \n",
    "* This function is reverse the order of the item."
   ]
  },
  {
   "cell_type": "code",
   "execution_count": 63,
   "id": "224070ad",
   "metadata": {},
   "outputs": [],
   "source": [
    "l = ['sin','cos','tan','cot','sec','cosec']"
   ]
  },
  {
   "cell_type": "code",
   "execution_count": 64,
   "id": "3a75243f",
   "metadata": {},
   "outputs": [],
   "source": [
    "l.reverse()"
   ]
  },
  {
   "cell_type": "code",
   "execution_count": 65,
   "id": "286cccdc",
   "metadata": {},
   "outputs": [
    {
     "data": {
      "text/plain": [
       "['cosec', 'sec', 'cot', 'tan', 'cos', 'sin']"
      ]
     },
     "execution_count": 65,
     "metadata": {},
     "output_type": "execute_result"
    }
   ],
   "source": [
    "l"
   ]
  },
  {
   "cell_type": "markdown",
   "id": "600e4402",
   "metadata": {},
   "source": [
    "# Sort \n",
    "* This function is use to sort the list in ascending order "
   ]
  },
  {
   "cell_type": "code",
   "execution_count": 68,
   "id": "33348794",
   "metadata": {},
   "outputs": [],
   "source": [
    "lx =[43,23,2,3,99,87,45,92,29,19]"
   ]
  },
  {
   "cell_type": "code",
   "execution_count": 69,
   "id": "b2e4db20",
   "metadata": {},
   "outputs": [
    {
     "data": {
      "text/plain": [
       "[43, 23, 2, 3, 99, 87, 45, 92, 29, 19]"
      ]
     },
     "execution_count": 69,
     "metadata": {},
     "output_type": "execute_result"
    }
   ],
   "source": [
    "lx"
   ]
  },
  {
   "cell_type": "code",
   "execution_count": 70,
   "id": "93dbae2c",
   "metadata": {},
   "outputs": [],
   "source": [
    "lx.sort()"
   ]
  },
  {
   "cell_type": "code",
   "execution_count": 71,
   "id": "e3ddd845",
   "metadata": {},
   "outputs": [
    {
     "data": {
      "text/plain": [
       "[2, 3, 19, 23, 29, 43, 45, 87, 92, 99]"
      ]
     },
     "execution_count": 71,
     "metadata": {},
     "output_type": "execute_result"
    }
   ],
   "source": [
    "lx"
   ]
  },
  {
   "cell_type": "code",
   "execution_count": 72,
   "id": "887f335b",
   "metadata": {},
   "outputs": [],
   "source": [
    "lx.sort(reverse= True)"
   ]
  },
  {
   "cell_type": "code",
   "execution_count": 73,
   "id": "98dee8f0",
   "metadata": {},
   "outputs": [
    {
     "data": {
      "text/plain": [
       "[99, 92, 87, 45, 43, 29, 23, 19, 3, 2]"
      ]
     },
     "execution_count": 73,
     "metadata": {},
     "output_type": "execute_result"
    }
   ],
   "source": [
    "lx"
   ]
  },
  {
   "cell_type": "code",
   "execution_count": null,
   "id": "a4076809",
   "metadata": {},
   "outputs": [],
   "source": []
  }
 ],
 "metadata": {
  "kernelspec": {
   "display_name": "Python 3 (ipykernel)",
   "language": "python",
   "name": "python3"
  },
  "language_info": {
   "codemirror_mode": {
    "name": "ipython",
    "version": 3
   },
   "file_extension": ".py",
   "mimetype": "text/x-python",
   "name": "python",
   "nbconvert_exporter": "python",
   "pygments_lexer": "ipython3",
   "version": "3.11.5"
  }
 },
 "nbformat": 4,
 "nbformat_minor": 5
}
