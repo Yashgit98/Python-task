{
 "cells": [
  {
   "cell_type": "markdown",
   "id": "7c6f0022",
   "metadata": {},
   "source": [
    "# Dictionary "
   ]
  },
  {
   "cell_type": "code",
   "execution_count": 5,
   "id": "550c9add",
   "metadata": {},
   "outputs": [],
   "source": [
    "dict = {'name':'yash','age':25,'countary':'india','city':'nagpur'}"
   ]
  },
  {
   "cell_type": "code",
   "execution_count": 6,
   "id": "20dcdaaf",
   "metadata": {},
   "outputs": [
    {
     "data": {
      "text/plain": [
       "{'name': 'yash', 'age': 25, 'countary': 'india', 'city': 'nagpur'}"
      ]
     },
     "execution_count": 6,
     "metadata": {},
     "output_type": "execute_result"
    }
   ],
   "source": [
    "dict"
   ]
  },
  {
   "cell_type": "markdown",
   "id": "16a601d0",
   "metadata": {},
   "source": [
    "# clear ()\n",
    "* This function removes all element from the dictionary."
   ]
  },
  {
   "cell_type": "code",
   "execution_count": 7,
   "id": "ff627168",
   "metadata": {},
   "outputs": [],
   "source": [
    "dict = {'name':'yash','age':25,'countary':'india','city':'nagpur'}"
   ]
  },
  {
   "cell_type": "code",
   "execution_count": 8,
   "id": "44ea09bf",
   "metadata": {},
   "outputs": [
    {
     "data": {
      "text/plain": [
       "{'name': 'yash', 'age': 25, 'countary': 'india', 'city': 'nagpur'}"
      ]
     },
     "execution_count": 8,
     "metadata": {},
     "output_type": "execute_result"
    }
   ],
   "source": [
    "dict"
   ]
  },
  {
   "cell_type": "code",
   "execution_count": 9,
   "id": "e2803ad4",
   "metadata": {},
   "outputs": [],
   "source": [
    "dict.clear()"
   ]
  },
  {
   "cell_type": "code",
   "execution_count": 10,
   "id": "4d0de188",
   "metadata": {},
   "outputs": [
    {
     "data": {
      "text/plain": [
       "{}"
      ]
     },
     "execution_count": 10,
     "metadata": {},
     "output_type": "execute_result"
    }
   ],
   "source": [
    "dict"
   ]
  },
  {
   "cell_type": "markdown",
   "id": "0a6f6739",
   "metadata": {},
   "source": [
    "# copy()\n",
    "* This function returns a shallow copy of the dictionary."
   ]
  },
  {
   "cell_type": "code",
   "execution_count": 11,
   "id": "d7b7c77c",
   "metadata": {},
   "outputs": [],
   "source": [
    "dict = {'name':'yash','age':25,'countary':'india','city':'nagpur'}"
   ]
  },
  {
   "cell_type": "code",
   "execution_count": 12,
   "id": "0f0edeca",
   "metadata": {},
   "outputs": [
    {
     "data": {
      "text/plain": [
       "{'name': 'yash', 'age': 25, 'countary': 'india', 'city': 'nagpur'}"
      ]
     },
     "execution_count": 12,
     "metadata": {},
     "output_type": "execute_result"
    }
   ],
   "source": [
    "dict"
   ]
  },
  {
   "cell_type": "code",
   "execution_count": 15,
   "id": "b86326dc",
   "metadata": {},
   "outputs": [
    {
     "data": {
      "text/plain": [
       "{'name': 'yash', 'age': 25, 'countary': 'india', 'city': 'nagpur'}"
      ]
     },
     "execution_count": 15,
     "metadata": {},
     "output_type": "execute_result"
    }
   ],
   "source": [
    "dict.copy()"
   ]
  },
  {
   "cell_type": "code",
   "execution_count": 16,
   "id": "d70ecad6",
   "metadata": {},
   "outputs": [
    {
     "data": {
      "text/plain": [
       "{'name': 'yash', 'age': 25, 'countary': 'india', 'city': 'nagpur'}"
      ]
     },
     "execution_count": 16,
     "metadata": {},
     "output_type": "execute_result"
    }
   ],
   "source": [
    "dict"
   ]
  },
  {
   "cell_type": "markdown",
   "id": "cd1da14e",
   "metadata": {},
   "source": [
    "# fromkeys()\n",
    "* this function creates a new dictionary with keys from seq values set to the value"
   ]
  },
  {
   "cell_type": "code",
   "execution_count": 17,
   "id": "fc5bff6a",
   "metadata": {},
   "outputs": [],
   "source": [
    "dict = {'name':'yash','age':25,'countary':'india','city':'nagpur'}"
   ]
  },
  {
   "cell_type": "code",
   "execution_count": 18,
   "id": "fe2e3932",
   "metadata": {},
   "outputs": [
    {
     "name": "stdout",
     "output_type": "stream",
     "text": [
      "{'age': {'30'}}\n"
     ]
    }
   ],
   "source": [
    "dict2 = {'age'}\n",
    "dict3 ={'30'}\n",
    "new_dict = dict.fromkeys(dict2,dict3)\n",
    "print(new_dict)\n"
   ]
  },
  {
   "cell_type": "markdown",
   "id": "92535098",
   "metadata": {},
   "source": [
    "# get()\n",
    "* return the value for key if key is in the dictionary , otherwise it return default."
   ]
  },
  {
   "cell_type": "code",
   "execution_count": 19,
   "id": "b0aa60ba",
   "metadata": {},
   "outputs": [],
   "source": [
    "dict = {'name':'yash','age':25,'countary':'india','city':'nagpur'}"
   ]
  },
  {
   "cell_type": "code",
   "execution_count": 20,
   "id": "904f6d86",
   "metadata": {},
   "outputs": [
    {
     "data": {
      "text/plain": [
       "{'name': 'yash', 'age': 25, 'countary': 'india', 'city': 'nagpur'}"
      ]
     },
     "execution_count": 20,
     "metadata": {},
     "output_type": "execute_result"
    }
   ],
   "source": [
    "dict"
   ]
  },
  {
   "cell_type": "code",
   "execution_count": 21,
   "id": "93415de1",
   "metadata": {},
   "outputs": [
    {
     "data": {
      "text/plain": [
       "25"
      ]
     },
     "execution_count": 21,
     "metadata": {},
     "output_type": "execute_result"
    }
   ],
   "source": [
    "dict.get('age')"
   ]
  },
  {
   "cell_type": "markdown",
   "id": "4065544a",
   "metadata": {},
   "source": [
    "# items()\n",
    "* this method returns a view object that dispalys a list of dictionary key value tuple pairs."
   ]
  },
  {
   "cell_type": "code",
   "execution_count": 22,
   "id": "b4a694d3",
   "metadata": {},
   "outputs": [
    {
     "data": {
      "text/plain": [
       "dict_items([('name', 'yash'), ('age', 25), ('countary', 'india'), ('city', 'nagpur')])"
      ]
     },
     "execution_count": 22,
     "metadata": {},
     "output_type": "execute_result"
    }
   ],
   "source": [
    "dict.items()"
   ]
  },
  {
   "cell_type": "markdown",
   "id": "cc02a187",
   "metadata": {},
   "source": [
    "# keys()\n",
    "* Returns a view object that displays a list of all the keys in the dictionary."
   ]
  },
  {
   "cell_type": "code",
   "execution_count": 23,
   "id": "6dc29b7b",
   "metadata": {},
   "outputs": [
    {
     "data": {
      "text/plain": [
       "dict_keys(['name', 'age', 'countary', 'city'])"
      ]
     },
     "execution_count": 23,
     "metadata": {},
     "output_type": "execute_result"
    }
   ],
   "source": [
    "dict.keys()"
   ]
  },
  {
   "cell_type": "markdown",
   "id": "8a8dc3df",
   "metadata": {},
   "source": [
    "# pop ()\n",
    "* it removes the specified key and returns the corresponding value.if the key is not found , default is returned if provided,otherwise keyerror is raised."
   ]
  },
  {
   "cell_type": "code",
   "execution_count": 24,
   "id": "75e701bb",
   "metadata": {},
   "outputs": [
    {
     "data": {
      "text/plain": [
       "25"
      ]
     },
     "execution_count": 24,
     "metadata": {},
     "output_type": "execute_result"
    }
   ],
   "source": [
    "dict.pop('age')"
   ]
  },
  {
   "cell_type": "code",
   "execution_count": 25,
   "id": "7cf74ead",
   "metadata": {},
   "outputs": [
    {
     "data": {
      "text/plain": [
       "{'name': 'yash', 'countary': 'india', 'city': 'nagpur'}"
      ]
     },
     "execution_count": 25,
     "metadata": {},
     "output_type": "execute_result"
    }
   ],
   "source": [
    "dict"
   ]
  },
  {
   "cell_type": "markdown",
   "id": "e6d204ce",
   "metadata": {},
   "source": [
    "# popitem()\n",
    "* it removes and return an arbitrary key value pair from the dictionary. if the dictioanry is empty , a keyerror is raised."
   ]
  },
  {
   "cell_type": "code",
   "execution_count": 26,
   "id": "a9dd2b30",
   "metadata": {},
   "outputs": [],
   "source": [
    "dict = {'name':'yash','age':25,'countary':'india','city':'nagpur'}"
   ]
  },
  {
   "cell_type": "code",
   "execution_count": 27,
   "id": "1e6f298e",
   "metadata": {},
   "outputs": [],
   "source": [
    "item = dict.popitem()"
   ]
  },
  {
   "cell_type": "code",
   "execution_count": 28,
   "id": "cf8ea379",
   "metadata": {},
   "outputs": [
    {
     "data": {
      "text/plain": [
       "('city', 'nagpur')"
      ]
     },
     "execution_count": 28,
     "metadata": {},
     "output_type": "execute_result"
    }
   ],
   "source": [
    "item"
   ]
  },
  {
   "cell_type": "code",
   "execution_count": 29,
   "id": "cbf9313c",
   "metadata": {},
   "outputs": [
    {
     "data": {
      "text/plain": [
       "{'name': 'yash', 'age': 25, 'countary': 'india'}"
      ]
     },
     "execution_count": 29,
     "metadata": {},
     "output_type": "execute_result"
    }
   ],
   "source": [
    "dict"
   ]
  },
  {
   "cell_type": "markdown",
   "id": "6399c1ed",
   "metadata": {},
   "source": [
    "# setdefault()\n",
    "* This method returns the value of the specified key.if the key does not exist,insert the key with default value."
   ]
  },
  {
   "cell_type": "code",
   "execution_count": 30,
   "id": "d588b37d",
   "metadata": {},
   "outputs": [
    {
     "data": {
      "text/plain": [
       "{'name': 'yash', 'age': 25, 'countary': 'india'}"
      ]
     },
     "execution_count": 30,
     "metadata": {},
     "output_type": "execute_result"
    }
   ],
   "source": [
    "dict"
   ]
  },
  {
   "cell_type": "code",
   "execution_count": 32,
   "id": "eef6b1e4",
   "metadata": {},
   "outputs": [],
   "source": [
    "value = dict.setdefault('count','aus')"
   ]
  },
  {
   "cell_type": "code",
   "execution_count": 33,
   "id": "0ec5f230",
   "metadata": {},
   "outputs": [
    {
     "data": {
      "text/plain": [
       "'aus'"
      ]
     },
     "execution_count": 33,
     "metadata": {},
     "output_type": "execute_result"
    }
   ],
   "source": [
    "value"
   ]
  },
  {
   "cell_type": "code",
   "execution_count": 34,
   "id": "06cbf964",
   "metadata": {},
   "outputs": [
    {
     "data": {
      "text/plain": [
       "{'name': 'yash', 'age': 25, 'countary': 'india', 'count': 'aus'}"
      ]
     },
     "execution_count": 34,
     "metadata": {},
     "output_type": "execute_result"
    }
   ],
   "source": [
    "dict"
   ]
  },
  {
   "cell_type": "markdown",
   "id": "1e7128dd",
   "metadata": {},
   "source": [
    "# update()\n",
    "* Updates the dictionary with elements from another dictionary object or from an iterable of key value pairs."
   ]
  },
  {
   "cell_type": "code",
   "execution_count": 35,
   "id": "ccf3b676",
   "metadata": {},
   "outputs": [
    {
     "data": {
      "text/plain": [
       "{'name': 'yash', 'age': 25, 'countary': 'india', 'count': 'aus'}"
      ]
     },
     "execution_count": 35,
     "metadata": {},
     "output_type": "execute_result"
    }
   ],
   "source": [
    "dict"
   ]
  },
  {
   "cell_type": "code",
   "execution_count": 36,
   "id": "4b37f55a",
   "metadata": {},
   "outputs": [],
   "source": [
    "dict.update({'count':'us'})"
   ]
  },
  {
   "cell_type": "code",
   "execution_count": 37,
   "id": "0dd87a71",
   "metadata": {},
   "outputs": [
    {
     "data": {
      "text/plain": [
       "{'name': 'yash', 'age': 25, 'countary': 'india', 'count': 'us'}"
      ]
     },
     "execution_count": 37,
     "metadata": {},
     "output_type": "execute_result"
    }
   ],
   "source": [
    "dict"
   ]
  },
  {
   "cell_type": "markdown",
   "id": "4daf9c67",
   "metadata": {},
   "source": [
    "# values()\n",
    "* This method return a view object that displays a list of all the values in the dictioanry."
   ]
  },
  {
   "cell_type": "code",
   "execution_count": 38,
   "id": "379bf239",
   "metadata": {},
   "outputs": [
    {
     "data": {
      "text/plain": [
       "{'name': 'yash', 'age': 25, 'countary': 'india', 'count': 'us'}"
      ]
     },
     "execution_count": 38,
     "metadata": {},
     "output_type": "execute_result"
    }
   ],
   "source": [
    "dict"
   ]
  },
  {
   "cell_type": "code",
   "execution_count": 39,
   "id": "82d20ccc",
   "metadata": {},
   "outputs": [
    {
     "data": {
      "text/plain": [
       "dict_values(['yash', 25, 'india', 'us'])"
      ]
     },
     "execution_count": 39,
     "metadata": {},
     "output_type": "execute_result"
    }
   ],
   "source": [
    "dict.values()"
   ]
  },
  {
   "cell_type": "code",
   "execution_count": null,
   "id": "14e32cf4",
   "metadata": {},
   "outputs": [],
   "source": []
  }
 ],
 "metadata": {
  "kernelspec": {
   "display_name": "Python 3 (ipykernel)",
   "language": "python",
   "name": "python3"
  },
  "language_info": {
   "codemirror_mode": {
    "name": "ipython",
    "version": 3
   },
   "file_extension": ".py",
   "mimetype": "text/x-python",
   "name": "python",
   "nbconvert_exporter": "python",
   "pygments_lexer": "ipython3",
   "version": "3.11.5"
  }
 },
 "nbformat": 4,
 "nbformat_minor": 5
}
