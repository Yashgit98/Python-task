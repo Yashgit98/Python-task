{
 "cells": [
  {
   "cell_type": "markdown",
   "id": "9a44a620",
   "metadata": {},
   "source": [
    "# Tuple"
   ]
  },
  {
   "cell_type": "code",
   "execution_count": 3,
   "id": "8aaf1bed",
   "metadata": {},
   "outputs": [],
   "source": [
    "a = ('tiger','lion','cat','panther')"
   ]
  },
  {
   "cell_type": "code",
   "execution_count": 2,
   "id": "ed4c1dcc",
   "metadata": {},
   "outputs": [
    {
     "name": "stdout",
     "output_type": "stream",
     "text": [
      "('tiger', 'lion', 'cat', 'panther')\n"
     ]
    }
   ],
   "source": [
    "print(a)"
   ]
  },
  {
   "cell_type": "markdown",
   "id": "640e4888",
   "metadata": {},
   "source": [
    "# len()\n",
    "* This function return the number of element present in the tuple."
   ]
  },
  {
   "cell_type": "code",
   "execution_count": 4,
   "id": "2a46a0bb",
   "metadata": {},
   "outputs": [],
   "source": [
    "a = ('tiger','lion','cat','panther')"
   ]
  },
  {
   "cell_type": "code",
   "execution_count": 8,
   "id": "bad3458a",
   "metadata": {},
   "outputs": [],
   "source": [
    "a = len(a)"
   ]
  },
  {
   "cell_type": "code",
   "execution_count": 9,
   "id": "498f1e73",
   "metadata": {},
   "outputs": [
    {
     "name": "stdout",
     "output_type": "stream",
     "text": [
      "4\n"
     ]
    }
   ],
   "source": [
    "print(a)"
   ]
  },
  {
   "cell_type": "markdown",
   "id": "1f5f5733",
   "metadata": {},
   "source": [
    "# count()\n",
    "* this function will help us to found the number of time an element is present in the tuple "
   ]
  },
  {
   "cell_type": "code",
   "execution_count": 10,
   "id": "30597617",
   "metadata": {},
   "outputs": [],
   "source": [
    "a = ('tiger','lion','cat','panther')"
   ]
  },
  {
   "cell_type": "code",
   "execution_count": 11,
   "id": "a7440a0c",
   "metadata": {},
   "outputs": [
    {
     "data": {
      "text/plain": [
       "1"
      ]
     },
     "execution_count": 11,
     "metadata": {},
     "output_type": "execute_result"
    }
   ],
   "source": [
    "a.count('tiger')"
   ]
  },
  {
   "cell_type": "markdown",
   "id": "1a173c8d",
   "metadata": {},
   "source": [
    "# index()\n",
    "* this method help us to find the index or occurrence of an element in the tuple "
   ]
  },
  {
   "cell_type": "code",
   "execution_count": 12,
   "id": "daab0666",
   "metadata": {},
   "outputs": [],
   "source": [
    "a1 = (1,2,3,4,5)"
   ]
  },
  {
   "cell_type": "code",
   "execution_count": 13,
   "id": "87a8a094",
   "metadata": {},
   "outputs": [],
   "source": [
    "a1 = a1.index(4)"
   ]
  },
  {
   "cell_type": "code",
   "execution_count": 14,
   "id": "2e17417e",
   "metadata": {},
   "outputs": [
    {
     "data": {
      "text/plain": [
       "3"
      ]
     },
     "execution_count": 14,
     "metadata": {},
     "output_type": "execute_result"
    }
   ],
   "source": [
    "a1"
   ]
  },
  {
   "cell_type": "markdown",
   "id": "fa92d5ce",
   "metadata": {},
   "source": [
    "# sorted()\n",
    "* this method takes a tuple as an input and returns a sorted list as an output "
   ]
  },
  {
   "cell_type": "code",
   "execution_count": 15,
   "id": "d731704d",
   "metadata": {},
   "outputs": [],
   "source": [
    "a2 = (12,13,21,43,5,65,78,98,0,1,5)"
   ]
  },
  {
   "cell_type": "code",
   "execution_count": 16,
   "id": "81df377d",
   "metadata": {},
   "outputs": [],
   "source": [
    "a2 = sorted(a2)"
   ]
  },
  {
   "cell_type": "code",
   "execution_count": 17,
   "id": "e6a3d1e0",
   "metadata": {},
   "outputs": [
    {
     "name": "stdout",
     "output_type": "stream",
     "text": [
      "[0, 1, 5, 5, 12, 13, 21, 43, 65, 78, 98]\n"
     ]
    }
   ],
   "source": [
    "print(a2)"
   ]
  },
  {
   "cell_type": "code",
   "execution_count": null,
   "id": "b0fc4591",
   "metadata": {},
   "outputs": [],
   "source": []
  }
 ],
 "metadata": {
  "kernelspec": {
   "display_name": "Python 3 (ipykernel)",
   "language": "python",
   "name": "python3"
  },
  "language_info": {
   "codemirror_mode": {
    "name": "ipython",
    "version": 3
   },
   "file_extension": ".py",
   "mimetype": "text/x-python",
   "name": "python",
   "nbconvert_exporter": "python",
   "pygments_lexer": "ipython3",
   "version": "3.11.5"
  }
 },
 "nbformat": 4,
 "nbformat_minor": 5
}
